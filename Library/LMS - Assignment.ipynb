{
 "cells": [
  {
   "cell_type": "code",
   "execution_count": 1,
   "id": "3e3d8796",
   "metadata": {},
   "outputs": [],
   "source": [
    "from tabulate import tabulate\n",
    "from random import randint\n",
    "import time\n",
    "\n",
    "\n",
    "class Library():\n",
    "    \n",
    "    def __init__(self):\n",
    "        print(\"Welcome to Edyoda Library!\")\n",
    "        time.sleep(0.5)\n",
    "        print('Press 1: Register')\n",
    "        time.sleep(0.5)\n",
    "        print('Press 2: Login')\n",
    "        time.sleep(0.5)\n",
    "        print(\"Press 3: See Books in Library\")\n",
    "        time.sleep(0.5)\n",
    "        print(\"Press 4: No thanks!\")\n",
    "        time.sleep(0.5)\n",
    "        inp=input(\"Please Enter your response: \")\n",
    "        if inp=='1':  \n",
    "            print(\"Loading...\")\n",
    "            time.sleep(1)\n",
    "            self.signUp()\n",
    "        elif inp=='2':\n",
    "            print(\"Loading...\")\n",
    "            time.sleep(1)\n",
    "            self.login()\n",
    "        elif inp=='3':\n",
    "            print(\"Loading...\")\n",
    "            time.sleep(1)\n",
    "            self.display_books()\n",
    "        elif inp=='4':\n",
    "            print(\"You can roam freely!\")\n",
    "        \n",
    "            \n",
    "    \n",
    "    def random4digit(n):\n",
    "        range_start = 10**(n-1)\n",
    "        range_end = (10**n)-1\n",
    "        return randint(range_start, range_end)    \n",
    "    \n",
    "    users = [['Name', 'Email', 'Password','Role'],['Admin','admin','admin','Admin'],['User','user','user','Borrower']]\n",
    "#     ready_made_loginId = ['Admin','admin','admin','Admin'],['User','user','user','Borrower']\n",
    "    books = [['BookID', 'Book Title', 'Author', 'Pages', 'No. of copies', 'ISBN', 'Published Year'],\n",
    "             [random4digit(4),'Rich Dad, Poor Dad','Robert Kiyosaki',336,5,random4digit(13),2000],\n",
    "             [random4digit(4),'In Search of Lost Time','Marcel Proust',4_215,7,random4digit(13),1913],\n",
    "             [random4digit(4),'Hamlet','William Shakespeare',500,12,random4digit(13),1601],\n",
    "             [random4digit(4),'The Odyssey','Homer',384,6,random4digit(13),1614],\n",
    "             [random4digit(4),\"Gulliver's Travels\",'Jonathan Swift',350,2,random4digit(13),1726],\n",
    "             [random4digit(4),'Jyotipunj','Narendra Modi',200,9,random4digit(13),2009]]\n",
    "\n",
    "\n",
    "    def signUp(self):\n",
    "        self.name = input(\"Enter your Full Name: \")\n",
    "        self.age = input(\"Enter your Date of Birth: \")\n",
    "        self.contact = input(\"Enter your Contact no.: \")\n",
    "        self.email = input(\"Enter your Email: \")\n",
    "        self.password = input(\"Enter your Password: \")\n",
    "        self.role = 'Borrower'\n",
    "        self.users.append([self.name, self.email, self.password,self.role])\n",
    "        print('User Registered Successfully')\n",
    "\n",
    "    counter1 = 0\n",
    "\n",
    "    def login(self):\n",
    "        self.email = input(\"Please enter your registered email: \")\n",
    "        self.password = input(\"Please enter your password: \")\n",
    "        for i in self.users:\n",
    "            if (self.email in i and self.password in i):\n",
    "                self.counter1 = 1\n",
    "                break\n",
    "            else:\n",
    "                self.counter1 = 0\n",
    "\n",
    "        if self.counter1 == 1:\n",
    "            print(\"Welcome! You are successfully logged in.\")\n",
    "            \n",
    "        elif self.counter1 == 0:\n",
    "            print(\"User not found! Please Register.\")\n",
    "\n",
    "    def display_books(self):\n",
    "        print(tabulate(self.books, headers='firstrow', tablefmt='fancy_grid'))\n",
    "\n",
    "            \n",
    "    def adminSignUp(self):\n",
    "        self.role = 'Admin'\n",
    "        self.username = input(\"Enter your Userame: \")\n",
    "        self.email = input(\"Enter your Email: \")\n",
    "        self.password = input(\"Enter your Password: \")\n",
    "        self.users.append([self.username, self.email, self.password,self.role])\n",
    "        print('Congratulations! You are an Admin now.')        \n",
    "\n",
    "    def display_admins(self):\n",
    "        for i in range(1,len(self.users)):\n",
    "            if self.users[i][3] == \"Admin\":\n",
    "                adminlistindb = self.users[i]\n",
    "        print(tabulate(adminlistindb, headers='firstrow', tablefmt='fancy_grid'))\n",
    "        \n",
    "       \n",
    "    def display_users(self):\n",
    "        for i in range(1,len(self.users)):\n",
    "            if self.users[i][3] == \"Admin\":\n",
    "                userlistindb = self.users[i]\n",
    "        print(tabulate(userlistindb, headers='firstrow', tablefmt='fancy_grid'))\n",
    "        \n",
    "    def makeAdmin(self):\n",
    "        for i in range(1,len(self.users)):\n",
    "            if self.users[i][3] == \"Admin\":\n",
    "                self.name = input(\"Enter Username: \")\n",
    "                self.email = input(\"Enter the Email: \")\n",
    "                self.password = input(\"Enter password: \")\n",
    "                self.role = 'Admin'\n",
    "                self.counter2 = input(\"Do you want to give {0} Admin privilege? Y/N: \".format(self.name))\n",
    "                if self.counter2 == 'Y'or self.counter2 == 'y':\n",
    "                    print(\"{0} has been given Admin rights.\".format(self.name))\n",
    "                    self.users.append([self.name,self.email,self.password,self.role])\n",
    "                else:\n",
    "                    print(\"No Worries!\")\n",
    "                break\n",
    "            else:\n",
    "                 print(\"Please login first.\")    \n",
    "\n",
    "    def addBooks(self):\n",
    "        for i in range(1,len(self.users)):\n",
    "            if self.users[i][3] == \"Admin\": \n",
    "                self.bookId = self.random4digit(4)\n",
    "                self.bookTitle = input(\"Enter the Book Title: \")\n",
    "                self.author = input(\"Enter the Authors name: \")\n",
    "                self.pages = input(\"Enter No. of pages: \")\n",
    "                self.noOfCopies = input(\"Enter No. of copies: \")\n",
    "                self.isbn = input(\"Enter 13 digit ISBN Code: \")\n",
    "                self.publishedYear = input(\"Enter Published Year: \")\n",
    "                self.books.append([self.bookId, self.bookTitle, self.author, self.pages, self.noOfCopies, self.isbn, self.publishedYear])\n",
    "                break\n",
    "            else:\n",
    "                print(\"Please login first\")\n",
    "    \n",
    "    def book_issue(self):\n",
    "        for i in range(1,len(self.users)):\n",
    "            if self.users[i][3] == \"Admin\" or self.users[i][3] == \"Borrower\":\n",
    "                self.display_books()\n",
    "                self.bookID = int(input(\"Enter Book ID: \"))\n",
    "                for j in range(1,len(self.books)):\n",
    "                    if self.bookID in self.books[j]:\n",
    "                        print(self.books[j])\n",
    "                        time.sleep(1)\n",
    "                        resp= input(\"Do you want to borrow this book? Y/N: \")\n",
    "                        if resp.lower() == 'y':\n",
    "                            if self.books[i][4]>0:\n",
    "                                print(\"Book Issued!\")\n",
    "                            else:\n",
    "                                print(\"Book Out of Stock!\")\n",
    "                        else:\n",
    "                            print(\"No Worries! Come again.\")\n",
    "                    else:\n",
    "                        print('Book not found!')\n",
    "        else:\n",
    "            print(\"Please Login First.\")\n"
   ]
  },
  {
   "cell_type": "code",
   "execution_count": 2,
   "id": "790ba4d8",
   "metadata": {},
   "outputs": [
    {
     "name": "stdout",
     "output_type": "stream",
     "text": [
      "Welcome to Edyoda Library!\n",
      "Press 1: Register\n",
      "Press 2: Login\n",
      "Press 3: See Books in Library\n",
      "Press 4: No thanks!\n",
      "Please Enter your response: 4\n",
      "You can roam freely!\n"
     ]
    }
   ],
   "source": [
    "a = Library()"
   ]
  },
  {
   "cell_type": "code",
   "execution_count": null,
   "id": "4ee96f55",
   "metadata": {},
   "outputs": [],
   "source": [
    "a.signUp()"
   ]
  },
  {
   "cell_type": "code",
   "execution_count": 4,
   "id": "ffbadbd8",
   "metadata": {},
   "outputs": [
    {
     "name": "stdout",
     "output_type": "stream",
     "text": [
      "╒═════╤═════╤═════╤═════╤═════╕\n",
      "│ A   │ d   │ m   │ i   │ n   │\n",
      "╞═════╪═════╪═════╪═════╪═════╡\n",
      "│ a   │ d   │ m   │ i   │ n   │\n",
      "├─────┼─────┼─────┼─────┼─────┤\n",
      "│ a   │ d   │ m   │ i   │ n   │\n",
      "├─────┼─────┼─────┼─────┼─────┤\n",
      "│ A   │ d   │ m   │ i   │ n   │\n",
      "╘═════╧═════╧═════╧═════╧═════╛\n"
     ]
    }
   ],
   "source": [
    "a.display_users()"
   ]
  },
  {
   "cell_type": "code",
   "execution_count": 44,
   "id": "db55032f",
   "metadata": {},
   "outputs": [
    {
     "name": "stdout",
     "output_type": "stream",
     "text": [
      "Please enter your registered email: a\n",
      "Please enter your password: a\n",
      "Welcome! You are successfully logged in.\n"
     ]
    }
   ],
   "source": [
    "a.login()"
   ]
  },
  {
   "cell_type": "code",
   "execution_count": 3,
   "id": "dc6f64b8",
   "metadata": {},
   "outputs": [
    {
     "name": "stdout",
     "output_type": "stream",
     "text": [
      "╒══════════╤════════════════════════╤═════════════════════╤═════════╤═════════════════╤═══════════════╤══════════════════╕\n",
      "│   BookID │ Book Title             │ Author              │   Pages │   No. of copies │          ISBN │   Published Year │\n",
      "╞══════════╪════════════════════════╪═════════════════════╪═════════╪═════════════════╪═══════════════╪══════════════════╡\n",
      "│     3189 │ Rich Dad, Poor Dad     │ Robert Kiyosaki     │     336 │               5 │ 2883828987442 │             2000 │\n",
      "├──────────┼────────────────────────┼─────────────────────┼─────────┼─────────────────┼───────────────┼──────────────────┤\n",
      "│     7447 │ In Search of Lost Time │ Marcel Proust       │    4215 │               7 │ 5968504213677 │             1913 │\n",
      "├──────────┼────────────────────────┼─────────────────────┼─────────┼─────────────────┼───────────────┼──────────────────┤\n",
      "│     4279 │ Hamlet                 │ William Shakespeare │     500 │              12 │ 9357505280244 │             1601 │\n",
      "├──────────┼────────────────────────┼─────────────────────┼─────────┼─────────────────┼───────────────┼──────────────────┤\n",
      "│     6391 │ The Odyssey            │ Homer               │     384 │               6 │ 7994611792701 │             1614 │\n",
      "├──────────┼────────────────────────┼─────────────────────┼─────────┼─────────────────┼───────────────┼──────────────────┤\n",
      "│     3222 │ Gulliver's Travels     │ Jonathan Swift      │     350 │               2 │ 5419505676728 │             1726 │\n",
      "├──────────┼────────────────────────┼─────────────────────┼─────────┼─────────────────┼───────────────┼──────────────────┤\n",
      "│     8544 │ Jyotipunj              │ Narendra Modi       │     200 │               9 │ 9454057161939 │             2009 │\n",
      "╘══════════╧════════════════════════╧═════════════════════╧═════════╧═════════════════╧═══════════════╧══════════════════╛\n",
      "Enter Book ID: 4279\n",
      "Book not found!\n",
      "Book not found!\n",
      "[4279, 'Hamlet', 'William Shakespeare', 500, 12, 9357505280244, 1601]\n"
     ]
    },
    {
     "ename": "KeyboardInterrupt",
     "evalue": "Interrupted by user",
     "output_type": "error",
     "traceback": [
      "\u001b[1;31m---------------------------------------------------------------------------\u001b[0m",
      "\u001b[1;31mKeyboardInterrupt\u001b[0m                         Traceback (most recent call last)",
      "\u001b[1;32m<ipython-input-3-44fa95ca664a>\u001b[0m in \u001b[0;36m<module>\u001b[1;34m\u001b[0m\n\u001b[1;32m----> 1\u001b[1;33m \u001b[0ma\u001b[0m\u001b[1;33m.\u001b[0m\u001b[0mbook_issue\u001b[0m\u001b[1;33m(\u001b[0m\u001b[1;33m)\u001b[0m\u001b[1;33m\u001b[0m\u001b[1;33m\u001b[0m\u001b[0m\n\u001b[0m",
      "\u001b[1;32m<ipython-input-1-9713e7588532>\u001b[0m in \u001b[0;36mbook_issue\u001b[1;34m(self)\u001b[0m\n\u001b[0;32m    145\u001b[0m                         \u001b[0mprint\u001b[0m\u001b[1;33m(\u001b[0m\u001b[0mself\u001b[0m\u001b[1;33m.\u001b[0m\u001b[0mbooks\u001b[0m\u001b[1;33m[\u001b[0m\u001b[0mj\u001b[0m\u001b[1;33m]\u001b[0m\u001b[1;33m)\u001b[0m\u001b[1;33m\u001b[0m\u001b[1;33m\u001b[0m\u001b[0m\n\u001b[0;32m    146\u001b[0m                         \u001b[0mtime\u001b[0m\u001b[1;33m.\u001b[0m\u001b[0msleep\u001b[0m\u001b[1;33m(\u001b[0m\u001b[1;36m1\u001b[0m\u001b[1;33m)\u001b[0m\u001b[1;33m\u001b[0m\u001b[1;33m\u001b[0m\u001b[0m\n\u001b[1;32m--> 147\u001b[1;33m                         \u001b[0mresp\u001b[0m\u001b[1;33m=\u001b[0m \u001b[0minput\u001b[0m\u001b[1;33m(\u001b[0m\u001b[1;34m\"Do you want to borrow this book? Y/N: \"\u001b[0m\u001b[1;33m)\u001b[0m\u001b[1;33m\u001b[0m\u001b[1;33m\u001b[0m\u001b[0m\n\u001b[0m\u001b[0;32m    148\u001b[0m                         \u001b[1;32mif\u001b[0m \u001b[0mresp\u001b[0m\u001b[1;33m.\u001b[0m\u001b[0mlower\u001b[0m\u001b[1;33m(\u001b[0m\u001b[1;33m)\u001b[0m \u001b[1;33m==\u001b[0m \u001b[1;34m'y'\u001b[0m\u001b[1;33m:\u001b[0m\u001b[1;33m\u001b[0m\u001b[1;33m\u001b[0m\u001b[0m\n\u001b[0;32m    149\u001b[0m                             \u001b[1;32mif\u001b[0m \u001b[0mself\u001b[0m\u001b[1;33m.\u001b[0m\u001b[0mbooks\u001b[0m\u001b[1;33m[\u001b[0m\u001b[0mi\u001b[0m\u001b[1;33m]\u001b[0m\u001b[1;33m[\u001b[0m\u001b[1;36m4\u001b[0m\u001b[1;33m]\u001b[0m\u001b[1;33m>\u001b[0m\u001b[1;36m0\u001b[0m\u001b[1;33m:\u001b[0m\u001b[1;33m\u001b[0m\u001b[1;33m\u001b[0m\u001b[0m\n",
      "\u001b[1;32mc:\\users\\krish\\appdata\\local\\programs\\python\\python39\\lib\\site-packages\\ipykernel\\kernelbase.py\u001b[0m in \u001b[0;36mraw_input\u001b[1;34m(self, prompt)\u001b[0m\n\u001b[0;32m    846\u001b[0m                 \u001b[1;34m\"raw_input was called, but this frontend does not support input requests.\"\u001b[0m\u001b[1;33m\u001b[0m\u001b[1;33m\u001b[0m\u001b[0m\n\u001b[0;32m    847\u001b[0m             )\n\u001b[1;32m--> 848\u001b[1;33m         return self._input_request(str(prompt),\n\u001b[0m\u001b[0;32m    849\u001b[0m             \u001b[0mself\u001b[0m\u001b[1;33m.\u001b[0m\u001b[0m_parent_ident\u001b[0m\u001b[1;33m,\u001b[0m\u001b[1;33m\u001b[0m\u001b[1;33m\u001b[0m\u001b[0m\n\u001b[0;32m    850\u001b[0m             \u001b[0mself\u001b[0m\u001b[1;33m.\u001b[0m\u001b[0m_parent_header\u001b[0m\u001b[1;33m,\u001b[0m\u001b[1;33m\u001b[0m\u001b[1;33m\u001b[0m\u001b[0m\n",
      "\u001b[1;32mc:\\users\\krish\\appdata\\local\\programs\\python\\python39\\lib\\site-packages\\ipykernel\\kernelbase.py\u001b[0m in \u001b[0;36m_input_request\u001b[1;34m(self, prompt, ident, parent, password)\u001b[0m\n\u001b[0;32m    890\u001b[0m             \u001b[1;32mexcept\u001b[0m \u001b[0mKeyboardInterrupt\u001b[0m\u001b[1;33m:\u001b[0m\u001b[1;33m\u001b[0m\u001b[1;33m\u001b[0m\u001b[0m\n\u001b[0;32m    891\u001b[0m                 \u001b[1;31m# re-raise KeyboardInterrupt, to truncate traceback\u001b[0m\u001b[1;33m\u001b[0m\u001b[1;33m\u001b[0m\u001b[1;33m\u001b[0m\u001b[0m\n\u001b[1;32m--> 892\u001b[1;33m                 \u001b[1;32mraise\u001b[0m \u001b[0mKeyboardInterrupt\u001b[0m\u001b[1;33m(\u001b[0m\u001b[1;34m\"Interrupted by user\"\u001b[0m\u001b[1;33m)\u001b[0m \u001b[1;32mfrom\u001b[0m \u001b[1;32mNone\u001b[0m\u001b[1;33m\u001b[0m\u001b[1;33m\u001b[0m\u001b[0m\n\u001b[0m\u001b[0;32m    893\u001b[0m             \u001b[1;32mexcept\u001b[0m \u001b[0mException\u001b[0m \u001b[1;32mas\u001b[0m \u001b[0me\u001b[0m\u001b[1;33m:\u001b[0m\u001b[1;33m\u001b[0m\u001b[1;33m\u001b[0m\u001b[0m\n\u001b[0;32m    894\u001b[0m                 \u001b[0mself\u001b[0m\u001b[1;33m.\u001b[0m\u001b[0mlog\u001b[0m\u001b[1;33m.\u001b[0m\u001b[0mwarning\u001b[0m\u001b[1;33m(\u001b[0m\u001b[1;34m\"Invalid Message:\"\u001b[0m\u001b[1;33m,\u001b[0m \u001b[0mexc_info\u001b[0m\u001b[1;33m=\u001b[0m\u001b[1;32mTrue\u001b[0m\u001b[1;33m)\u001b[0m\u001b[1;33m\u001b[0m\u001b[1;33m\u001b[0m\u001b[0m\n",
      "\u001b[1;31mKeyboardInterrupt\u001b[0m: Interrupted by user"
     ]
    }
   ],
   "source": [
    "a.book_issue()"
   ]
  },
  {
   "cell_type": "code",
   "execution_count": 9,
   "id": "ac03ed6a",
   "metadata": {},
   "outputs": [
    {
     "name": "stdout",
     "output_type": "stream",
     "text": [
      "['Admin', 'admin', 'admin', 'Admin']\n"
     ]
    }
   ],
   "source": [
    "users = [['Name', 'Email', 'Password','Role'],['Admin','admin','admin','Admin'],['User','user','user','Borrower']]\n",
    "def display_users():\n",
    "        for i in range(1,len(users)):\n",
    "            if users[i][3] == \"Admin\":\n",
    "                userlistindb = users[i]\n",
    "                print(userlistindbtindb)\n",
    "                \n",
    "display_users()"
   ]
  },
  {
   "cell_type": "code",
   "execution_count": null,
   "id": "240e26be",
   "metadata": {},
   "outputs": [],
   "source": []
  }
 ],
 "metadata": {
  "kernelspec": {
   "display_name": "Python 3",
   "language": "python",
   "name": "python3"
  },
  "language_info": {
   "codemirror_mode": {
    "name": "ipython",
    "version": 3
   },
   "file_extension": ".py",
   "mimetype": "text/x-python",
   "name": "python",
   "nbconvert_exporter": "python",
   "pygments_lexer": "ipython3",
   "version": "3.9.5"
  }
 },
 "nbformat": 4,
 "nbformat_minor": 5
}
