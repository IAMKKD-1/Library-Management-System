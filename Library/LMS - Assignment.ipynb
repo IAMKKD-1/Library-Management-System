{
 "cells": [
  {
   "cell_type": "code",
   "execution_count": 21,
   "id": "3e3d8796",
   "metadata": {},
   "outputs": [],
   "source": [
    "from tabulate import tabulate\n",
    "from random import randint\n",
    "import time\n",
    "\n",
    "\n",
    "class Library():\n",
    "\n",
    "    def __init__(self):\n",
    "        print(\"Welcome to Edyoda Library!\")\n",
    "        time.sleep(0.5)\n",
    "        print('Press 1: Register')\n",
    "        time.sleep(0.5)\n",
    "        print('Press 2: Login')\n",
    "        time.sleep(0.5)\n",
    "        print(\"Press 3: See Books in Library\")\n",
    "        time.sleep(0.5)\n",
    "        print(\"Press 4: Admin Panel\")\n",
    "        time.sleep(0.5)\n",
    "        print(\"Press 5: No Thanks!\")\n",
    "        inp = input(\"Please Enter your response: \")\n",
    "        if inp == '1':\n",
    "            print(\"Loading...\")\n",
    "            time.sleep(1)\n",
    "            self.signUp()\n",
    "        elif inp == '2':\n",
    "            print(\"Loading...\")\n",
    "            time.sleep(1)\n",
    "            self.login()\n",
    "        elif inp == '3':\n",
    "            print(\"Loading...\")\n",
    "            time.sleep(1)\n",
    "            self.display_books()\n",
    "        elif inp == '4':\n",
    "            print(\"You are in Admin Panel\")\n",
    "            time.sleep(0.5)\n",
    "            print(\"Press 1: Register as Admin\")\n",
    "            time.sleep(0.5)\n",
    "            print(\"Press 2: Login as Admin\")\n",
    "            time.sleep(0.5)\n",
    "            print(\"Press 3: Display all Admins and Borrowers\")\n",
    "            time.sleep(0.5)\n",
    "            inp3 = input(\"Please Enter your response: \")\n",
    "            if inp3 == '1':\n",
    "                print(\"Loading...\")\n",
    "                time.sleep(1)\n",
    "                self.adminSignUp()\n",
    "            elif inp3 == '2':\n",
    "                print(\"Loading...\")\n",
    "                time.sleep(1)\n",
    "                self.login()\n",
    "            elif inp3 == '3':\n",
    "                print(\"Admin List\")\n",
    "                self.display_admins()\n",
    "                time.sleep(0.5)\n",
    "                print('**********************************************')\n",
    "                time.sleep(0.5)\n",
    "                print(\"Borrowers List\")\n",
    "                self.display_users()\n",
    "        if inp == '5':\n",
    "            print(\"Welcome!\")\n",
    "\n",
    "\n",
    "    def random4digit(n):\n",
    "        range_start = 10 ** (n - 1)\n",
    "        range_end = (10 ** n) - 1\n",
    "        return randint(range_start, range_end)\n",
    "\n",
    "    users = [['Name', 'Email', 'Password', 'Role']]\n",
    "    books = [['BookID', 'Book Title', 'Author', 'Pages', 'No. of copies', 'ISBN', 'Published Year'],\n",
    "             [random4digit(4), 'Rich Dad, Poor Dad', 'Robert Kiyosaki', 336, 5, random4digit(13), 2000],\n",
    "             [random4digit(4), 'In Search of Lost Time', 'Marcel Proust', 4_215, 7, random4digit(13), 1913],\n",
    "             [random4digit(4), 'Hamlet', 'William Shakespeare', 500, 12, random4digit(13), 1601],\n",
    "             [random4digit(4), 'The Odyssey', 'Homer', 384, 6, random4digit(13), 1614],\n",
    "             [random4digit(4), \"Gulliver's Travels\", 'Jonathan Swift', 350, 2, random4digit(13), 1726],\n",
    "             [random4digit(4), 'Jyotipunj', 'Narendra Modi', 200, 9, random4digit(13), 2009]]\n",
    "    books_history = [['BookID', 'Book Title', 'Author', 'Pages', 'No. of copies', 'ISBN', 'Published Year']]\n",
    "\n",
    "    active_user = [['Name', 'Email', 'Password', 'Role']]\n",
    "\n",
    "    def signUp(self):\n",
    "        self.name = input(\"Enter your Full Name: \")\n",
    "        self.age = input(\"Enter your Date of Birth: \")\n",
    "        self.contact = input(\"Enter your Contact no.: \")\n",
    "        self.email = input(\"Enter your Email: \")\n",
    "        self.password = input(\"Enter your Password: \")\n",
    "        self.role = 'Borrower'\n",
    "        self.users.append([self.name, self.email, self.password, self.role])\n",
    "        print('User Registered Successfully')\n",
    "\n",
    "    counter1 = 0\n",
    "\n",
    "    def login(self):\n",
    "        self.email = input(\"Please enter your registered email: \")\n",
    "        self.password = input(\"Please enter your password: \")\n",
    "        for i in self.users:\n",
    "            if (self.email in i and self.password in i):\n",
    "                self.counter1 = 1\n",
    "                self.active_user.append(i)\n",
    "                break\n",
    "            else:\n",
    "                self.counter1 = 0\n",
    "\n",
    "        if self.counter1 == 1:\n",
    "            print(\"Welcome! You are successfully logged in.\")\n",
    "\n",
    "        elif self.counter1 == 0:\n",
    "            print(\"User not found! Please Register.\")\n",
    "\n",
    "    def display_books(self):\n",
    "        print(tabulate(self.books, headers='firstrow', tablefmt='fancy_grid'))\n",
    "\n",
    "    def adminSignUp(self):\n",
    "        self.role = 'Admin'\n",
    "        self.username = input(\"Enter your Userame: \")\n",
    "        self.email = input(\"Enter your Email: \")\n",
    "        self.password = input(\"Enter your Password: \")\n",
    "        self.users.append([self.username, self.email, self.password, self.role])\n",
    "        print('Congratulations! You are an Admin now.')\n",
    "\n",
    "    def display_admins(self):\n",
    "        adminlistindb = [['Name', 'Email', 'Password', 'Role']]\n",
    "        for i in range(1, len(self.users)):\n",
    "            if self.users[i][3] == \"Admin\":\n",
    "                adminlistindb.append(self.users[i])\n",
    "        print(tabulate(adminlistindb, headers='firstrow', tablefmt='fancy_grid'))\n",
    "\n",
    "    def display_users(self):\n",
    "        userlistindb = [['Name', 'Email', 'Password', 'Role']]\n",
    "        for i in range(1, len(self.users)):\n",
    "            if self.users[i][3] == \"Borrower\":\n",
    "                userlistindb.append(self.users[i])\n",
    "\n",
    "        print(tabulate(userlistindb, headers='firstrow', tablefmt='fancy_grid'))\n",
    "\n",
    "    def makeAdmin(self):\n",
    "        for i in range(1, len(self.users)):\n",
    "            if self.users[i][3] == \"Admin\":\n",
    "                self.name = input(\"Enter Username: \")\n",
    "                self.email = input(\"Enter the Email: \")\n",
    "                self.password = input(\"Enter password: \")\n",
    "                self.role = 'Admin'\n",
    "                self.counter2 = input(\"Do you want to give {0} Admin privilege? Y/N: \".format(self.name))\n",
    "                if self.counter2 == 'Y' or self.counter2 == 'y':\n",
    "                    print(\"{0} has been given Admin rights.\".format(self.name))\n",
    "                    self.users.append([self.name, self.email, self.password, self.role])\n",
    "                else:\n",
    "                    print(\"No Worries!\")\n",
    "                break\n",
    "            else:\n",
    "                print(\"Please login first.\")\n",
    "\n",
    "    def makeBorrower(self):\n",
    "        for i in range(1, len(self.users)):\n",
    "            if self.users[i][3] == \"Admin\":\n",
    "                self.name = input(\"Enter Full Name: \")\n",
    "                self.age = input(\"Enter Date of Birth: \")\n",
    "                self.contact = input(\"Enter Contact no.: \")\n",
    "                self.email = input(\"Enter Email: \")\n",
    "                self.password = input(\"Enter Password: \")\n",
    "                self.role = 'Borrower'\n",
    "                self.users.append([self.name, self.email, self.password, self.role])\n",
    "                print('User Registered Successfully')\n",
    "                break\n",
    "            else:\n",
    "                print(\"Please login first.\")\n",
    "\n",
    "    def addBooks(self):\n",
    "        for i in range(1, len(self.users)):\n",
    "            if self.users[i][3] == \"Admin\":\n",
    "                self.bookId = self.random4digit(4)\n",
    "                self.bookTitle = input(\"Enter the Book Title: \")\n",
    "                self.author = input(\"Enter the Authors name: \")\n",
    "                self.pages = input(\"Enter No. of pages: \")\n",
    "                self.noOfCopies = input(\"Enter No. of copies: \")\n",
    "                self.isbn = input(\"Enter 13 digit ISBN Code: \")\n",
    "                self.publishedYear = input(\"Enter Published Year: \")\n",
    "                self.books.append([self.bookId, self.bookTitle, self.author, self.pages, self.noOfCopies, self.isbn,\n",
    "                                   self.publishedYear])\n",
    "                break\n",
    "            else:\n",
    "                print(\"Please login first\")\n",
    "\n",
    "    def book_issue(self):\n",
    "        for i in range(1, len(self.users)):\n",
    "            if self.users[i][3] == \"Admin\" or self.users[i][3] == \"Borrower\":\n",
    "                self.display_books()\n",
    "                self.bookID = int(input(\"Enter Book ID: \"))\n",
    "                for j in range(1, len(self.books)):\n",
    "                    if self.bookID in self.books[j]:\n",
    "                        print(self.books[j])\n",
    "                        time.sleep(1)\n",
    "                        resp = input(\"Do you want to borrow this book? Y/N: \")\n",
    "                        if resp.lower() == 'y':\n",
    "                            if self.books[j][4] > 0:\n",
    "                                print(\"Book Issued!\")\n",
    "                                self.books[j][4] -= 1\n",
    "                                self.books_history.append(self.books[j])\n",
    "                            else:\n",
    "                                print(\"Book Out of Stock!\")\n",
    "                        else:\n",
    "                            print(\"No Worries! Come again.\")\n",
    "                        break\n",
    "                else:\n",
    "                    print('Book not found!')\n",
    "                break\n",
    "        else:\n",
    "            print(\"Please Login First.\")\n",
    "\n",
    "    def user_history(self):\n",
    "        \n",
    "        print(tabulate(self.books_history, headers='firstrow', tablefmt='fancy_grid'))\n",
    "\n"
   ]
  },
  {
   "cell_type": "code",
   "execution_count": 20,
   "id": "a74c6a74",
   "metadata": {},
   "outputs": [
    {
     "name": "stdout",
     "output_type": "stream",
     "text": [
      "Welcome to Edyoda Library!\n",
      "Press 1: Register\n",
      "Press 2: Login\n",
      "Press 3: See Books in Library\n",
      "Press 4: Admin Panel\n",
      "Press 5: No Thanks!\n",
      "Please Enter your response: 4\n",
      "You are in Admin Panel\n",
      "Press 1: Register as Admin\n",
      "Press 2: Login as Admin\n",
      "Press 3: Display all Admins and Borrowers\n",
      "Please Enter your response: 3\n",
      "Admin List\n",
      "╒════════╤═════════╤════════════╤════════╕\n",
      "│ Name   │ Email   │ Password   │ Role   │\n",
      "╞════════╪═════════╪════════════╪════════╡\n",
      "│ Admin  │ admin   │ admin      │ Admin  │\n",
      "╘════════╧═════════╧════════════╧════════╛\n",
      "***************************************************************************\n",
      "Borrowers List\n",
      "╒════════╤═════════╤════════════╤══════════╕\n",
      "│ Name   │ Email   │ Password   │ Role     │\n",
      "╞════════╪═════════╪════════════╪══════════╡\n",
      "│ User   │ user    │ user       │ Borrower │\n",
      "╘════════╧═════════╧════════════╧══════════╛\n"
     ]
    }
   ],
   "source": [
    "a = Library()"
   ]
  },
  {
   "cell_type": "code",
   "execution_count": 22,
   "id": "4f64093e",
   "metadata": {},
   "outputs": [
    {
     "name": "stdout",
     "output_type": "stream",
     "text": [
      "Enter your Userame: a\n",
      "Enter your Email: a\n",
      "Enter your Password: aa\n",
      "Congratulations! You are an Admin now.\n"
     ]
    }
   ],
   "source": [
    "a.adminSignUp()"
   ]
  },
  {
   "cell_type": "code",
   "execution_count": 23,
   "id": "a043c2fc",
   "metadata": {},
   "outputs": [
    {
     "name": "stdout",
     "output_type": "stream",
     "text": [
      "╒════════╤═════════╤════════════╤════════╕\n",
      "│ Name   │ Email   │ Password   │ Role   │\n",
      "╞════════╪═════════╪════════════╪════════╡\n",
      "│ Admin  │ admin   │ admin      │ Admin  │\n",
      "├────────┼─────────┼────────────┼────────┤\n",
      "│ a      │ a       │ aa         │ Admin  │\n",
      "╘════════╧═════════╧════════════╧════════╛\n"
     ]
    }
   ],
   "source": [
    "a.display_admins()"
   ]
  },
  {
   "cell_type": "code",
   "execution_count": 24,
   "id": "9585d8fd",
   "metadata": {},
   "outputs": [
    {
     "name": "stdout",
     "output_type": "stream",
     "text": [
      "Please enter your registered email: a\n",
      "Please enter your password: aa\n",
      "Welcome! You are successfully logged in.\n"
     ]
    }
   ],
   "source": [
    "a.login()"
   ]
  },
  {
   "cell_type": "code",
   "execution_count": 14,
   "id": "76685d96",
   "metadata": {},
   "outputs": [
    {
     "name": "stdout",
     "output_type": "stream",
     "text": [
      "╒══════════╤════════════════════════╤═════════════════════╤═════════╤═════════════════╤═══════════════╤══════════════════╕\n",
      "│   BookID │ Book Title             │ Author              │   Pages │   No. of copies │          ISBN │   Published Year │\n",
      "╞══════════╪════════════════════════╪═════════════════════╪═════════╪═════════════════╪═══════════════╪══════════════════╡\n",
      "│     5130 │ Rich Dad, Poor Dad     │ Robert Kiyosaki     │     336 │               5 │ 8774697557760 │             2000 │\n",
      "├──────────┼────────────────────────┼─────────────────────┼─────────┼─────────────────┼───────────────┼──────────────────┤\n",
      "│     6366 │ In Search of Lost Time │ Marcel Proust       │    4215 │               7 │ 1759004269951 │             1913 │\n",
      "├──────────┼────────────────────────┼─────────────────────┼─────────┼─────────────────┼───────────────┼──────────────────┤\n",
      "│     8463 │ Hamlet                 │ William Shakespeare │     500 │              12 │ 1863574961055 │             1601 │\n",
      "├──────────┼────────────────────────┼─────────────────────┼─────────┼─────────────────┼───────────────┼──────────────────┤\n",
      "│     7971 │ The Odyssey            │ Homer               │     384 │               6 │ 5705076428198 │             1614 │\n",
      "├──────────┼────────────────────────┼─────────────────────┼─────────┼─────────────────┼───────────────┼──────────────────┤\n",
      "│     2601 │ Gulliver's Travels     │ Jonathan Swift      │     350 │               2 │ 7679905285527 │             1726 │\n",
      "├──────────┼────────────────────────┼─────────────────────┼─────────┼─────────────────┼───────────────┼──────────────────┤\n",
      "│     4085 │ Jyotipunj              │ Narendra Modi       │     200 │               9 │ 5157105086039 │             2009 │\n",
      "╘══════════╧════════════════════════╧═════════════════════╧═════════╧═════════════════╧═══════════════╧══════════════════╛\n"
     ]
    }
   ],
   "source": [
    "a.display_books()"
   ]
  },
  {
   "cell_type": "code",
   "execution_count": 25,
   "id": "dcb3294e",
   "metadata": {},
   "outputs": [
    {
     "name": "stdout",
     "output_type": "stream",
     "text": [
      "╒══════════╤════════════════════════╤═════════════════════╤═════════╤═════════════════╤═══════════════╤══════════════════╕\n",
      "│   BookID │ Book Title             │ Author              │   Pages │   No. of copies │          ISBN │   Published Year │\n",
      "╞══════════╪════════════════════════╪═════════════════════╪═════════╪═════════════════╪═══════════════╪══════════════════╡\n",
      "│     6888 │ Rich Dad, Poor Dad     │ Robert Kiyosaki     │     336 │               5 │ 2482257625145 │             2000 │\n",
      "├──────────┼────────────────────────┼─────────────────────┼─────────┼─────────────────┼───────────────┼──────────────────┤\n",
      "│     1388 │ In Search of Lost Time │ Marcel Proust       │    4215 │               7 │ 3158922360845 │             1913 │\n",
      "├──────────┼────────────────────────┼─────────────────────┼─────────┼─────────────────┼───────────────┼──────────────────┤\n",
      "│     9294 │ Hamlet                 │ William Shakespeare │     500 │              12 │ 9615946850938 │             1601 │\n",
      "├──────────┼────────────────────────┼─────────────────────┼─────────┼─────────────────┼───────────────┼──────────────────┤\n",
      "│     7179 │ The Odyssey            │ Homer               │     384 │               6 │ 4932049868634 │             1614 │\n",
      "├──────────┼────────────────────────┼─────────────────────┼─────────┼─────────────────┼───────────────┼──────────────────┤\n",
      "│     8010 │ Gulliver's Travels     │ Jonathan Swift      │     350 │               2 │ 6731022341880 │             1726 │\n",
      "├──────────┼────────────────────────┼─────────────────────┼─────────┼─────────────────┼───────────────┼──────────────────┤\n",
      "│     7424 │ Jyotipunj              │ Narendra Modi       │     200 │               9 │ 1414257998444 │             2009 │\n",
      "╘══════════╧════════════════════════╧═════════════════════╧═════════╧═════════════════╧═══════════════╧══════════════════╛\n",
      "Enter Book ID: 8010\n",
      "[8010, \"Gulliver's Travels\", 'Jonathan Swift', 350, 2, 6731022341880, 1726]\n",
      "Do you want to borrow this book? Y/N: Y\n",
      "Book Issued!\n"
     ]
    }
   ],
   "source": [
    "a.book_issue()"
   ]
  },
  {
   "cell_type": "code",
   "execution_count": 26,
   "id": "e7ae9aed",
   "metadata": {},
   "outputs": [
    {
     "name": "stdout",
     "output_type": "stream",
     "text": [
      "╒══════════╤════════════════════╤════════════════╤═════════╤═════════════════╤═══════════════╤══════════════════╕\n",
      "│   BookID │ Book Title         │ Author         │   Pages │   No. of copies │          ISBN │   Published Year │\n",
      "╞══════════╪════════════════════╪════════════════╪═════════╪═════════════════╪═══════════════╪══════════════════╡\n",
      "│     8010 │ Gulliver's Travels │ Jonathan Swift │     350 │               1 │ 6731022341880 │             1726 │\n",
      "╘══════════╧════════════════════╧════════════════╧═════════╧═════════════════╧═══════════════╧══════════════════╛\n"
     ]
    }
   ],
   "source": [
    "a.user_history()"
   ]
  },
  {
   "cell_type": "code",
   "execution_count": null,
   "id": "01f9b035",
   "metadata": {},
   "outputs": [],
   "source": []
  },
  {
   "cell_type": "code",
   "execution_count": null,
   "id": "1ad68c00",
   "metadata": {},
   "outputs": [],
   "source": []
  }
 ],
 "metadata": {
  "kernelspec": {
   "display_name": "Python 3",
   "language": "python",
   "name": "python3"
  },
  "language_info": {
   "codemirror_mode": {
    "name": "ipython",
    "version": 3
   },
   "file_extension": ".py",
   "mimetype": "text/x-python",
   "name": "python",
   "nbconvert_exporter": "python",
   "pygments_lexer": "ipython3",
   "version": "3.9.5"
  }
 },
 "nbformat": 4,
 "nbformat_minor": 5
}
